{
 "cells": [
  {
   "cell_type": "code",
   "execution_count": 2,
   "id": "4412620b",
   "metadata": {},
   "outputs": [],
   "source": [
    "import pandas as pd\n",
    "import numpy as np"
   ]
  },
  {
   "cell_type": "code",
   "execution_count": 3,
   "id": "4444efd4",
   "metadata": {},
   "outputs": [],
   "source": [
    "training_data=pd.read_csv(\"training_sample.csv\")\n",
    "training_data=training_data[['UserID',\"basket_add_detail\",'promo_banner_click',\"sign_in\",\"saw_homepage\",\"returning_user\",\"ordered\"]]\n",
    "training_data.to_csv(\"training_sample_subset.csv\")"
   ]
  },
  {
   "cell_type": "code",
   "execution_count": 4,
   "id": "460b8ccb",
   "metadata": {},
   "outputs": [
    {
     "data": {
      "text/html": [
       "<div>\n",
       "<style scoped>\n",
       "    .dataframe tbody tr th:only-of-type {\n",
       "        vertical-align: middle;\n",
       "    }\n",
       "\n",
       "    .dataframe tbody tr th {\n",
       "        vertical-align: top;\n",
       "    }\n",
       "\n",
       "    .dataframe thead th {\n",
       "        text-align: right;\n",
       "    }\n",
       "</style>\n",
       "<table border=\"1\" class=\"dataframe\">\n",
       "  <thead>\n",
       "    <tr style=\"text-align: right;\">\n",
       "      <th></th>\n",
       "      <th>UserID</th>\n",
       "      <th>basket_add_detail</th>\n",
       "      <th>promo_banner_click</th>\n",
       "      <th>sign_in</th>\n",
       "      <th>saw_homepage</th>\n",
       "      <th>returning_user</th>\n",
       "      <th>ordered</th>\n",
       "    </tr>\n",
       "  </thead>\n",
       "  <tbody>\n",
       "    <tr>\n",
       "      <th>0</th>\n",
       "      <td>a720-6b732349-a720-4862-bd21-644732</td>\n",
       "      <td>0</td>\n",
       "      <td>0</td>\n",
       "      <td>0</td>\n",
       "      <td>0</td>\n",
       "      <td>0</td>\n",
       "      <td>0</td>\n",
       "    </tr>\n",
       "    <tr>\n",
       "      <th>1</th>\n",
       "      <td>a0c0-6b73247c-a0c0-4bd9-8baa-797356</td>\n",
       "      <td>0</td>\n",
       "      <td>0</td>\n",
       "      <td>0</td>\n",
       "      <td>0</td>\n",
       "      <td>0</td>\n",
       "      <td>0</td>\n",
       "    </tr>\n",
       "    <tr>\n",
       "      <th>2</th>\n",
       "      <td>86a8-6b735c67-86a8-407b-ba24-333055</td>\n",
       "      <td>0</td>\n",
       "      <td>0</td>\n",
       "      <td>0</td>\n",
       "      <td>0</td>\n",
       "      <td>1</td>\n",
       "      <td>0</td>\n",
       "    </tr>\n",
       "    <tr>\n",
       "      <th>3</th>\n",
       "      <td>6a3d-6b736346-6a3d-4085-934b-396834</td>\n",
       "      <td>0</td>\n",
       "      <td>0</td>\n",
       "      <td>0</td>\n",
       "      <td>0</td>\n",
       "      <td>1</td>\n",
       "      <td>0</td>\n",
       "    </tr>\n",
       "    <tr>\n",
       "      <th>4</th>\n",
       "      <td>b74a-6b737717-b74a-45c3-8c6a-421140</td>\n",
       "      <td>0</td>\n",
       "      <td>0</td>\n",
       "      <td>1</td>\n",
       "      <td>1</td>\n",
       "      <td>0</td>\n",
       "      <td>1</td>\n",
       "    </tr>\n",
       "  </tbody>\n",
       "</table>\n",
       "</div>"
      ],
      "text/plain": [
       "                                UserID  basket_add_detail  promo_banner_click  \\\n",
       "0  a720-6b732349-a720-4862-bd21-644732                  0                   0   \n",
       "1  a0c0-6b73247c-a0c0-4bd9-8baa-797356                  0                   0   \n",
       "2  86a8-6b735c67-86a8-407b-ba24-333055                  0                   0   \n",
       "3  6a3d-6b736346-6a3d-4085-934b-396834                  0                   0   \n",
       "4  b74a-6b737717-b74a-45c3-8c6a-421140                  0                   0   \n",
       "\n",
       "   sign_in  saw_homepage  returning_user  ordered  \n",
       "0        0             0               0        0  \n",
       "1        0             0               0        0  \n",
       "2        0             0               1        0  \n",
       "3        0             0               1        0  \n",
       "4        1             1               0        1  "
      ]
     },
     "execution_count": 4,
     "metadata": {},
     "output_type": "execute_result"
    }
   ],
   "source": [
    "training_data.head(5)"
   ]
  },
  {
   "cell_type": "code",
   "execution_count": 5,
   "id": "2116b1a3",
   "metadata": {},
   "outputs": [],
   "source": [
    "#Seperating dependent and independent variables\n",
    "X=training_data[[\"basket_add_detail\",'promo_banner_click',\"sign_in\",\"saw_homepage\",\"returning_user\"]]\n",
    "y=training_data[[\"ordered\"]]"
   ]
  },
  {
   "cell_type": "code",
   "execution_count": 6,
   "id": "0365ba36",
   "metadata": {},
   "outputs": [],
   "source": [
    "# split X and y into training and testing sets\n",
    "from sklearn.model_selection import train_test_split\n",
    "X_train,X_test,y_train,y_test=train_test_split(X,y,test_size=0.25,random_state=0)"
   ]
  },
  {
   "cell_type": "code",
   "execution_count": 7,
   "id": "66eab326",
   "metadata": {},
   "outputs": [
    {
     "name": "stderr",
     "output_type": "stream",
     "text": [
      "D:\\anaconda\\lib\\site-packages\\sklearn\\utils\\validation.py:63: DataConversionWarning: A column-vector y was passed when a 1d array was expected. Please change the shape of y to (n_samples, ), for example using ravel().\n",
      "  return f(*args, **kwargs)\n"
     ]
    },
    {
     "data": {
      "text/plain": [
       "LogisticRegression()"
      ]
     },
     "execution_count": 7,
     "metadata": {},
     "output_type": "execute_result"
    }
   ],
   "source": [
    "from sklearn.linear_model import LogisticRegression\n",
    "\n",
    "# instantiate the model (using the default parameters)\n",
    "propensity_model = LogisticRegression()\n",
    "\n",
    "# fit the model with data\n",
    "propensity_model.fit(X_train,y_train)"
   ]
  },
  {
   "cell_type": "code",
   "execution_count": 8,
   "id": "356c6b44",
   "metadata": {},
   "outputs": [],
   "source": [
    "#predict for test dataset\n",
    "y_pred=propensity_model.predict(X_test)"
   ]
  },
  {
   "cell_type": "code",
   "execution_count": 9,
   "id": "7646be95",
   "metadata": {},
   "outputs": [
    {
     "data": {
      "text/plain": [
       "0.9693107658255088"
      ]
     },
     "execution_count": 9,
     "metadata": {},
     "output_type": "execute_result"
    }
   ],
   "source": [
    "#evaluate the model fit\n",
    "from sklearn import metrics\n",
    "metrics.accuracy_score(y_test, y_pred)"
   ]
  },
  {
   "cell_type": "code",
   "execution_count": 10,
   "id": "1ae79b8a",
   "metadata": {},
   "outputs": [],
   "source": [
    "#save the pickle file to be loaded in the streamlit app\n",
    "import pickle\n",
    "  \n",
    "with open(\"propensity_model.pkl\", 'wb') as pfile:  \n",
    "    pickle.dump(propensity_model, pfile)"
   ]
  },
  {
   "cell_type": "code",
   "execution_count": 11,
   "id": "8fa3e733",
   "metadata": {},
   "outputs": [
    {
     "data": {
      "text/plain": [
       "0.9693107658255088"
      ]
     },
     "execution_count": 11,
     "metadata": {},
     "output_type": "execute_result"
    }
   ],
   "source": [
    "#QC\n",
    "import pickle\n",
    "  \n",
    "with open(\"propensity_model.pkl\", 'rb') as pfile:  \n",
    "    propensity_model_loaded=pickle.load(pfile)\n",
    "\n",
    "y_reloaded=propensity_model_loaded.predict(X_test)\n",
    "metrics.accuracy_score(y_test, y_reloaded)"
   ]
  },
  {
   "cell_type": "code",
   "execution_count": 12,
   "id": "c8a7543e",
   "metadata": {},
   "outputs": [
    {
     "ename": "IndentationError",
     "evalue": "unexpected indent (<ipython-input-12-be332c9613fd>, line 5)",
     "output_type": "error",
     "traceback": [
      "\u001b[1;36m  File \u001b[1;32m\"<ipython-input-12-be332c9613fd>\"\u001b[1;36m, line \u001b[1;32m5\u001b[0m\n\u001b[1;33m    st.altair_chart(chart)\u001b[0m\n\u001b[1;37m    ^\u001b[0m\n\u001b[1;31mIndentationError\u001b[0m\u001b[1;31m:\u001b[0m unexpected indent\n"
     ]
    }
   ],
   "source": [
    "chart = alt.Chart(training_sample_subset).mark_bar().encode(\n",
    "    alt.X(\"ordered\", bin=True),\n",
    "    y='count()',\n",
    "    )\n",
    "    st.altair_chart(chart)"
   ]
  },
  {
   "cell_type": "code",
   "execution_count": 20,
   "id": "1ef5daa0",
   "metadata": {},
   "outputs": [
    {
     "data": {
      "text/plain": [
       "<AxesSubplot:>"
      ]
     },
     "execution_count": 20,
     "metadata": {},
     "output_type": "execute_result"
    },
    {
     "data": {
      "image/png": "[encoded data removed]",
      "text/plain": [
       "<Figure size 432x288 with 1 Axes>"
      ]
     },
     "metadata": {
      "needs_background": "light"
     },
     "output_type": "display_data"
    }
   ],
   "source": [
    "training_data[\"ordered\"].value_counts().plot(kind=\"bar\")"
   ]
  }
 ],
 "metadata": {
  "kernelspec": {
   "display_name": "Python 3",
   "language": "python",
   "name": "python3"
  },
  "language_info": {
   "codemirror_mode": {
    "name": "ipython",
    "version": 3
   },
   "file_extension": ".py",
   "mimetype": "text/x-python",
   "name": "python",
   "nbconvert_exporter": "python",
   "pygments_lexer": "ipython3",
   "version": "3.8.8"
  }
 },
 "nbformat": 4,
 "nbformat_minor": 5
}
